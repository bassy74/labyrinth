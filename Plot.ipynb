{
 "cells": [
  {
   "source": [
    "#@title Importing general libraries\n",
    "import pandas as pd\n",
    "import numpy as np\n",
    "import matplotlib.pyplot as plt\n",
    "import japanize_matplotlib\n",
    "%matplotlib inline"
   ],
   "cell_type": "code",
   "metadata": {},
   "execution_count": null,
   "outputs": []
  },
  {
   "source": [
    "def plot_polar(sum_values,filename):\n",
    "    fig = plt.figure(figsize = (16,16), dpi = 100)\n",
    "    for i, values in enumerate(sum_values):\n",
    "        values = list(map(lambda x:x+1,values))\n",
    "#         print(values)\n",
    "        angles = np.linspace(0, 2 * np.pi, len(values) + 1, endpoint=True)\n",
    "        values = np.concatenate((values, [sum_values[i][0]+1]))  # 閉じた多角形にする\n",
    "       \n",
    "        ax = plt.subplot(6,6,i+1, polar=True)\n",
    "        ax.plot(angles, values, 'o-')  # 外枠\n",
    "        ax.plot(angles,[1,1,1,1,1], '--')  # 外枠\n",
    "        ax.fill(angles, values, alpha=0.25)  # 塗りつぶし\n",
    "        ax.set_rticks([])\n",
    "        ax.set_thetagrids([])  # 軸ラベル\n",
    "        ax.set_rlim(0 ,4)\n",
    "        \n",
    "    fig.savefig(filename+\".png\")\n"
   ],
   "cell_type": "code",
   "metadata": {},
   "execution_count": null,
   "outputs": []
  },
  {
   "cell_type": "code",
   "execution_count": null,
   "metadata": {
    "scrolled": true
   },
   "outputs": [],
   "source": [
    "import labyrinth\n",
    "\n",
    "def one():\n",
    "    q = [[0 for i in range(4)] for j in range(36)]\n",
    "    t = 0.5\n",
    "    alpha = 0.1\n",
    "    ganma = 0.9\n",
    "    g = [5,4]\n",
    "    df = labyrinth.walk(g,q,100)\n",
    "    for i in range(1):\n",
    "        plot_polar(df,\"1-{}\".format(i))\n",
    "    \n",
    "one()"
   ]
  },
  {
   "cell_type": "code",
   "execution_count": null,
   "metadata": {
    "scrolled": false
   },
   "outputs": [],
   "source": [
    "import labyrinth2\n",
    "def two():\n",
    "    q = [[0 for i in range(4)] for j in range(36)]\n",
    "    S = [1,1]\n",
    "\n",
    "    g = [[5,4],[2,5]]\n",
    "\n",
    "    df = labyrinth2.walk(g,q,1000)\n",
    "    \n",
    "    for i in range(1):\n",
    "        plot_polar(df,\"2-{}\".format(i))\n",
    "    \n",
    "    \n",
    "two()"
   ]
  },
  {
   "cell_type": "code",
   "execution_count": null,
   "metadata": {},
   "outputs": [],
   "source": []
  }
 ],
 "metadata": {
  "kernelspec": {
   "name": "python3",
   "display_name": "Python 3.8.2 64-bit"
  },
  "language_info": {
   "codemirror_mode": {
    "name": "ipython",
    "version": 3
   },
   "file_extension": ".py",
   "mimetype": "text/x-python",
   "name": "python",
   "nbconvert_exporter": "python",
   "pygments_lexer": "ipython3",
   "version": "3.8.2"
  },
  "interpreter": {
   "hash": "31f2aee4e71d21fbe5cf8b01ff0e069b9275f58929596ceb00d14d90e3e16cd6"
  }
 },
 "nbformat": 4,
 "nbformat_minor": 2
}